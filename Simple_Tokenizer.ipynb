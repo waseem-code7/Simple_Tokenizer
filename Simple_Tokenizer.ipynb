{
 "cells": [
  {
   "cell_type": "code",
   "execution_count": null,
   "metadata": {},
   "outputs": [
    {
     "name": "stdout",
     "output_type": "stream",
     "text": [
      "Number of characters in raw text :::  20479\n"
     ]
    }
   ],
   "source": [
    "with open(\"./the-verdict.txt\", mode=\"r\", encoding=\"UTF-8\") as file:\n",
    "    raw = file.read()\n",
    "\n",
    "print(\"Number of characters in raw text ::: \", len(raw))\n",
    "\n",
    "text = raw"
   ]
  },
  {
   "cell_type": "code",
   "execution_count": 20,
   "metadata": {},
   "outputs": [],
   "source": [
    "import re\n",
    "\n",
    "words_list = re.split(r\"([,.:;?\\\"()-]|\\s)\", text)\n",
    "# print(words_list)"
   ]
  },
  {
   "cell_type": "code",
   "execution_count": 21,
   "metadata": {},
   "outputs": [],
   "source": [
    "words_list = [item for item in words_list if item.strip()]"
   ]
  },
  {
   "cell_type": "code",
   "execution_count": null,
   "metadata": {},
   "outputs": [],
   "source": [
    "unique_words = sorted(set(words_list))\n",
    "unique_words.extend([\"<|unk|>\", \"<|end_of_text|>\"])"
   ]
  },
  {
   "cell_type": "code",
   "execution_count": 24,
   "metadata": {},
   "outputs": [],
   "source": [
    "vocab = {item:integer for integer, item in enumerate(unique_words)}"
   ]
  },
  {
   "cell_type": "code",
   "execution_count": 27,
   "metadata": {},
   "outputs": [
    {
     "name": "stdout",
     "output_type": "stream",
     "text": [
      "[1190, 11, 396, 1184, 670, 1026, 16]\n",
      "<|unk|>, do you like tea?\n"
     ]
    }
   ],
   "source": [
    "from abc import ABC, abstractmethod\n",
    "\n",
    "class Tokenize(ABC):\n",
    "    \n",
    "    def __init__(self, vocab):\n",
    "        self.str_to_int = vocab\n",
    "        self.int_to_str = {value:key for key, value in vocab.items()}\n",
    "    \n",
    "    @abstractmethod\n",
    "    def encode(self, string):\n",
    "        pass\n",
    "    \n",
    "    @abstractmethod\n",
    "    def decode(self, tokens):\n",
    "        pass\n",
    "\n",
    "\n",
    "class SimpleTokenizerV1(Tokenize):\n",
    "\n",
    "    def __init__(self, vocab):\n",
    "        super().__init__(vocab)\n",
    "    \n",
    "    def encode(self, string):\n",
    "        words = re.split(r\"([,.:;?\\\"()-]|\\s)\", string)\n",
    "       \n",
    "        preprocessed = [item for item in words if item.strip()]\n",
    "\n",
    "        words_list = [word if word in self.str_to_int else \"<|unk|>\" for word in preprocessed]\n",
    "\n",
    "        token_ids = [self.str_to_int[word] for word in words_list]\n",
    "\n",
    "        return token_ids\n",
    "\n",
    "    def decode(self, tokens):\n",
    "        words = [self.int_to_str[token] for token in tokens]\n",
    "        \n",
    "        sentence = \" \".join(words)\n",
    "\n",
    "        decoded_sentence = re.sub(r\"\\s+([,:;?!\\\")()'])\", r\"\\1\", sentence)\n",
    "\n",
    "        return decoded_sentence\n",
    "\n",
    "\n",
    "test_string = \"Hello, do you like tea?\"\n",
    "\n",
    "tokenizer = SimpleTokenizerV1(vocab)\n",
    "\n",
    "tokens = tokenizer.encode(test_string)\n",
    "print(tokens)\n",
    "\n",
    "decoded_string = tokenizer.decode(tokens)\n",
    "print(decoded_string)"
   ]
  }
 ],
 "metadata": {
  "kernelspec": {
   "display_name": ".venv",
   "language": "python",
   "name": "python3"
  },
  "language_info": {
   "codemirror_mode": {
    "name": "ipython",
    "version": 3
   },
   "file_extension": ".py",
   "mimetype": "text/x-python",
   "name": "python",
   "nbconvert_exporter": "python",
   "pygments_lexer": "ipython3",
   "version": "3.12.0"
  }
 },
 "nbformat": 4,
 "nbformat_minor": 2
}
